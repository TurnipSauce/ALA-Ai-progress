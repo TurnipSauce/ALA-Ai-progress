{
  "nbformat": 4,
  "nbformat_minor": 0,
  "metadata": {
    "colab": {
      "provenance": [],
      "authorship_tag": "ABX9TyNObO8fC3vZPf8s4wh6kd2q",
      "include_colab_link": true
    },
    "kernelspec": {
      "name": "python3",
      "display_name": "Python 3"
    },
    "language_info": {
      "name": "python"
    }
  },
  "cells": [
    {
      "cell_type": "markdown",
      "metadata": {
        "id": "view-in-github",
        "colab_type": "text"
      },
      "source": [
        "<a href=\"https://colab.research.google.com/github/TurnipSauce/ALA-Ai-progress/blob/main/WeatherFileSimple.ipynb\" target=\"_parent\"><img src=\"https://colab.research.google.com/assets/colab-badge.svg\" alt=\"Open In Colab\"/></a>"
      ]
    },
    {
      "cell_type": "code",
      "source": [
        "import requests\n",
        "\n",
        "def fetch_weather(api_key, city):\n",
        "    \"\"\" Fetch weather data from OpenWeatherMap API \"\"\"\n",
        "    base_url = \"http://api.openweathermap.org/data/2.5/weather?\"\n",
        "    city_name = city\n",
        "    complete_url = base_url + \"appid=\" + api_key + \"&q=\" + city_name\n",
        "    response = requests.get(complete_url)\n",
        "    return response.json()\n",
        "\n",
        "def interpret_data(weather_data):\n",
        "    \"\"\" Interpret and display weather data \"\"\"\n",
        "    if weather_data['cod'] != 404:\n",
        "        main_data = weather_data['main']\n",
        "        temperature = main_data['temp']\n",
        "        pressure = main_data['pressure']\n",
        "        humidity = main_data['humidity']\n",
        "        tempf = round((((temperature-273.15)*9)/5)+32,2)\n",
        "        print(f\"Temperature: {temperature} K or {tempf} F\")\n",
        "        print(f\"Pressure: {pressure} hPa\")\n",
        "        print(f\"Humidity: {humidity}%\")\n",
        "        # ... add more data to display if you wish\n",
        "    else:\n",
        "        print(\"City Not Found\")\n",
        "\n",
        "def simple_forecast(weather_data):\n",
        "    \"\"\" Basic weather forecasting logic \"\"\"\n",
        "    if weather_data['weather'][0]['main'] == 'Rain':\n",
        "        print(\"It might rain tomorrow as well.\")\n",
        "    else:\n",
        "        print(\"Tomorrow's weather looks clear.\")\n",
        "\n",
        "def main():\n",
        "    api_key = \"081099c1a174b658ad76dafc97f073f0\"  # Replace with your OpenWeatherMap API key\n",
        "    city = input(\"Enter city name: \")\n",
        "    weather_data = fetch_weather(api_key, city)\n",
        "    interpret_data(weather_data)\n",
        "    simple_forecast(weather_data)\n",
        "if __name__ == \"__main__\":\n",
        "    main()"
      ],
      "metadata": {
        "colab": {
          "base_uri": "https://localhost:8080/"
        },
        "id": "dGroD6PUyYMU",
        "outputId": "4534bd97-8081-4147-f7f4-39cff854065e"
      },
      "execution_count": 34,
      "outputs": [
        {
          "output_type": "stream",
          "name": "stdout",
          "text": [
            "Enter city name: Orlando\n",
            "Temperature: 298.95 K or 78.44 F\n",
            "Pressure: 1018 hPa\n",
            "Humidity: 50%\n",
            "Tomorrow's weather looks clear.\n"
          ]
        }
      ]
    }
  ]
}